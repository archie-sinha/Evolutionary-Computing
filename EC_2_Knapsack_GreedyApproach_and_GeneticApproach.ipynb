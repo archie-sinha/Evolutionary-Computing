{
  "nbformat": 4,
  "nbformat_minor": 0,
  "metadata": {
    "colab": {
      "provenance": [],
      "authorship_tag": "ABX9TyNrUgEJiHlv26E230eh3jCt",
      "include_colab_link": true
    },
    "kernelspec": {
      "name": "python3",
      "display_name": "Python 3"
    },
    "language_info": {
      "name": "python"
    }
  },
  "cells": [
    {
      "cell_type": "markdown",
      "metadata": {
        "id": "view-in-github",
        "colab_type": "text"
      },
      "source": [
        "<a href=\"https://colab.research.google.com/github/archie-sinha/Evolutionary-Computing/blob/main/EC_2_Knapsack_GreedyApproach_and_GeneticApproach.ipynb\" target=\"_parent\"><img src=\"https://colab.research.google.com/assets/colab-badge.svg\" alt=\"Open In Colab\"/></a>"
      ]
    },
    {
      "cell_type": "markdown",
      "source": [
        "#**Archisha Sinha**\n",
        "##Domain: Evolutionary Computing\n",
        "##Topic: Knapsack Problem"
      ],
      "metadata": {
        "id": "MR5_IGjAFDpI"
      }
    },
    {
      "cell_type": "markdown",
      "source": [
        "#**KNAPSACK PROBLEM**"
      ],
      "metadata": {
        "id": "cGJFvo8fkHIC"
      }
    },
    {
      "cell_type": "markdown",
      "source": [
        "###1. Greedy Approach"
      ],
      "metadata": {
        "id": "uy25pT6krbIO"
      }
    },
    {
      "cell_type": "code",
      "source": [
        "items= int(input(\"Enter the no. of items: \"))"
      ],
      "metadata": {
        "colab": {
          "base_uri": "https://localhost:8080/"
        },
        "id": "kaRbVf8yrYsl",
        "outputId": "fd9295a7-1796-4b56-88a6-e80c59052cb8"
      },
      "execution_count": 1,
      "outputs": [
        {
          "name": "stdout",
          "output_type": "stream",
          "text": [
            "Enter the no. of items: 5\n"
          ]
        }
      ]
    },
    {
      "cell_type": "code",
      "source": [
        "value = []  # Initialize an empty list to store values\n",
        "for i in range(items):\n",
        "    value.append(int(input(f\"Enter the value of item no. {i+1}: \")))"
      ],
      "metadata": {
        "colab": {
          "base_uri": "https://localhost:8080/"
        },
        "id": "N8L1vGHxsFpX",
        "outputId": "07800e0d-a2e8-4265-b9fc-e3c3cba9b001"
      },
      "execution_count": 2,
      "outputs": [
        {
          "name": "stdout",
          "output_type": "stream",
          "text": [
            "Enter the value of item no. 1: 3\n",
            "Enter the value of item no. 2: 4\n",
            "Enter the value of item no. 3: 6\n",
            "Enter the value of item no. 4: 2\n",
            "Enter the value of item no. 5: 7\n"
          ]
        }
      ]
    },
    {
      "cell_type": "code",
      "source": [
        "weight=[]\n",
        "for i in range (items):\n",
        "    weight.append(int(input(f\"Enter the weight of item no.  {i+1}:\")))"
      ],
      "metadata": {
        "colab": {
          "base_uri": "https://localhost:8080/"
        },
        "id": "mxCCSHXRsQVO",
        "outputId": "e754c9f0-f613-4220-bf55-d1c2660d27a4"
      },
      "execution_count": 3,
      "outputs": [
        {
          "name": "stdout",
          "output_type": "stream",
          "text": [
            "Enter the weight of item no.  1:4\n",
            "Enter the weight of item no.  2:2\n",
            "Enter the weight of item no.  3:6\n",
            "Enter the weight of item no.  4:1\n",
            "Enter the weight of item no.  5:3\n"
          ]
        }
      ]
    },
    {
      "cell_type": "code",
      "source": [
        "max_wt= int(input(\"Maximum Weight of the knapsack: \"))"
      ],
      "metadata": {
        "colab": {
          "base_uri": "https://localhost:8080/"
        },
        "id": "Yep7Oo2zteOH",
        "outputId": "363ff60a-1cd4-417f-f0f0-9fd67b828bde"
      },
      "execution_count": 4,
      "outputs": [
        {
          "name": "stdout",
          "output_type": "stream",
          "text": [
            "Maximum Weight of the knapsack: 5\n"
          ]
        }
      ]
    },
    {
      "cell_type": "code",
      "source": [
        "value_by_weight=[]\n",
        "for i in range (items):\n",
        "  value_by_weight.append(float(value[i]/weight[i]))"
      ],
      "metadata": {
        "id": "EWW2i1vVtynQ"
      },
      "execution_count": 5,
      "outputs": []
    },
    {
      "cell_type": "code",
      "source": [
        "j=0\n",
        "for i in  (value_by_weight):\n",
        "    print(f\"The value/weight of item {j+1} is {i}\")\n",
        "    j=j+1"
      ],
      "metadata": {
        "colab": {
          "base_uri": "https://localhost:8080/"
        },
        "id": "gGDjOICWuw5r",
        "outputId": "0956d173-a634-4222-c8af-8a580577bb74"
      },
      "execution_count": 6,
      "outputs": [
        {
          "output_type": "stream",
          "name": "stdout",
          "text": [
            "The value/weight of item 1 is 0.75\n",
            "The value/weight of item 2 is 2.0\n",
            "The value/weight of item 3 is 1.0\n",
            "The value/weight of item 4 is 2.0\n",
            "The value/weight of item 5 is 2.3333333333333335\n"
          ]
        }
      ]
    },
    {
      "cell_type": "code",
      "source": [
        "# Sort the items based on the value-to-weight ratio in descending order\n",
        "sorted_items = sorted(range(items), key=lambda k: value_by_weight[k], reverse=True)"
      ],
      "metadata": {
        "id": "JJvCQL7RvHfR"
      },
      "execution_count": 7,
      "outputs": []
    },
    {
      "cell_type": "code",
      "source": [
        "# Initialize variables\n",
        "current_weight = 0\n",
        "max_value = 0\n",
        "selected_items = []"
      ],
      "metadata": {
        "id": "L8eJDMr61T3F"
      },
      "execution_count": 8,
      "outputs": []
    },
    {
      "cell_type": "code",
      "source": [
        "# Greedy approach to fill the knapsack\n",
        "for i in sorted_items:\n",
        "    if current_weight + weight[i] <= max_wt:\n",
        "        selected_items.append(i+1)\n",
        "        sorted_items.pop(i+1)\n",
        "        current_weight += weight[i]\n",
        "        max_value += value[i]"
      ],
      "metadata": {
        "id": "HLOgIx431WFL",
        "colab": {
          "base_uri": "https://localhost:8080/",
          "height": 219
        },
        "outputId": "308b94ab-168f-4dd4-8d41-5b07da9da484"
      },
      "execution_count": 9,
      "outputs": [
        {
          "output_type": "error",
          "ename": "IndexError",
          "evalue": "pop index out of range",
          "traceback": [
            "\u001b[0;31m---------------------------------------------------------------------------\u001b[0m",
            "\u001b[0;31mIndexError\u001b[0m                                Traceback (most recent call last)",
            "\u001b[0;32m<ipython-input-9-c58012da8534>\u001b[0m in \u001b[0;36m<cell line: 2>\u001b[0;34m()\u001b[0m\n\u001b[1;32m      3\u001b[0m     \u001b[0;32mif\u001b[0m \u001b[0mcurrent_weight\u001b[0m \u001b[0;34m+\u001b[0m \u001b[0mweight\u001b[0m\u001b[0;34m[\u001b[0m\u001b[0mi\u001b[0m\u001b[0;34m]\u001b[0m \u001b[0;34m<=\u001b[0m \u001b[0mmax_wt\u001b[0m\u001b[0;34m:\u001b[0m\u001b[0;34m\u001b[0m\u001b[0;34m\u001b[0m\u001b[0m\n\u001b[1;32m      4\u001b[0m         \u001b[0mselected_items\u001b[0m\u001b[0;34m.\u001b[0m\u001b[0mappend\u001b[0m\u001b[0;34m(\u001b[0m\u001b[0mi\u001b[0m\u001b[0;34m+\u001b[0m\u001b[0;36m1\u001b[0m\u001b[0;34m)\u001b[0m\u001b[0;34m\u001b[0m\u001b[0;34m\u001b[0m\u001b[0m\n\u001b[0;32m----> 5\u001b[0;31m         \u001b[0msorted_items\u001b[0m\u001b[0;34m.\u001b[0m\u001b[0mpop\u001b[0m\u001b[0;34m(\u001b[0m\u001b[0mi\u001b[0m\u001b[0;34m+\u001b[0m\u001b[0;36m1\u001b[0m\u001b[0;34m)\u001b[0m\u001b[0;34m\u001b[0m\u001b[0;34m\u001b[0m\u001b[0m\n\u001b[0m\u001b[1;32m      6\u001b[0m         \u001b[0mcurrent_weight\u001b[0m \u001b[0;34m+=\u001b[0m \u001b[0mweight\u001b[0m\u001b[0;34m[\u001b[0m\u001b[0mi\u001b[0m\u001b[0;34m]\u001b[0m\u001b[0;34m\u001b[0m\u001b[0;34m\u001b[0m\u001b[0m\n\u001b[1;32m      7\u001b[0m         \u001b[0mmax_value\u001b[0m \u001b[0;34m+=\u001b[0m \u001b[0mvalue\u001b[0m\u001b[0;34m[\u001b[0m\u001b[0mi\u001b[0m\u001b[0;34m]\u001b[0m\u001b[0;34m\u001b[0m\u001b[0;34m\u001b[0m\u001b[0m\n",
            "\u001b[0;31mIndexError\u001b[0m: pop index out of range"
          ]
        }
      ]
    },
    {
      "cell_type": "code",
      "source": [
        "# Print the selected items and maximum value\n",
        "print(\"\\nSelected items for the knapsack (Greedy Approach):\", selected_items)\n",
        "print(\"Maximum value that can be obtained:\", max_value)"
      ],
      "metadata": {
        "colab": {
          "base_uri": "https://localhost:8080/"
        },
        "id": "M1ZFB_DX1Xz7",
        "outputId": "7ddea16c-8070-43b5-c804-d3b4df24d763"
      },
      "execution_count": 10,
      "outputs": [
        {
          "output_type": "stream",
          "name": "stdout",
          "text": [
            "\n",
            "Selected items for the knapsack (Greedy Approach): [5]\n",
            "Maximum value that can be obtained: 0\n"
          ]
        }
      ]
    },
    {
      "cell_type": "markdown",
      "source": [
        "###2. Evolutionary Approach"
      ],
      "metadata": {
        "id": "nS3RqDB33Te8"
      }
    },
    {
      "cell_type": "code",
      "source": [
        "import random"
      ],
      "metadata": {
        "id": "6DPHHgAW17kE"
      },
      "execution_count": 11,
      "outputs": []
    },
    {
      "cell_type": "code",
      "source": [
        "# Function to initialize a population of solutions\n",
        "def initialize_population(population_size):\n",
        "    return [[random.choice([0, 1]) for _ in range(items)] for _ in range(population_size)]"
      ],
      "metadata": {
        "id": "2bZp-R8F2DCo"
      },
      "execution_count": 12,
      "outputs": []
    },
    {
      "cell_type": "code",
      "source": [
        "# Function to calculate the fitness of an individual\n",
        "def calculate_fitness(individual):\n",
        "    total_value = sum(value[i] for i in range(items) if individual[i] == 1)\n",
        "    total_weight = sum(weight[i] for i in range(items) if individual[i] == 1)\n",
        "\n",
        "    # Penalize solutions that exceed the maximum weight\n",
        "    if total_weight > max_wt:\n",
        "        return 0\n",
        "    else:\n",
        "        return total_value"
      ],
      "metadata": {
        "id": "dcTnBWR72EjG"
      },
      "execution_count": 13,
      "outputs": []
    },
    {
      "cell_type": "code",
      "source": [
        "# Function to perform crossover between two parents\n",
        "def crossover(parent1, parent2):\n",
        "    crossover_point = random.randint(1, items - 1)\n",
        "    child = parent1[:crossover_point] + parent2[crossover_point:]\n",
        "    return child"
      ],
      "metadata": {
        "id": "oaE2HzdL2I86"
      },
      "execution_count": 14,
      "outputs": []
    },
    {
      "cell_type": "code",
      "source": [
        "# Function to perform mutation on an individual\n",
        "def mutate(individual, mutation_rate):\n",
        "    for i in range(items):\n",
        "        if random.random() < mutation_rate:\n",
        "            individual[i] = 1 - individual[i]\n",
        "    return individual"
      ],
      "metadata": {
        "id": "v2cETtab2Lkx"
      },
      "execution_count": 15,
      "outputs": []
    },
    {
      "cell_type": "code",
      "source": [
        "# Genetic Algorithm for Knapsack\n",
        "def knapsack_genetic_algorithm(population_size, generations, mutation_rate):\n",
        "    population = initialize_population(population_size)\n",
        "\n",
        "    for generation in range(generations):\n",
        "        # Calculate fitness for each individual\n",
        "        fitness_scores = [calculate_fitness(individual) for individual in population]\n",
        "\n",
        "        # Select the top individuals based on fitness for reproduction\n",
        "        selected_indices = sorted(range(population_size), key=lambda k: fitness_scores[k], reverse=True)[:int(population_size/2)]\n",
        "\n",
        "        # Create new population through crossover and mutation\n",
        "        new_population = []\n",
        "        for _ in range(population_size - len(selected_indices)):\n",
        "            parent1 = population[random.choice(selected_indices)]\n",
        "            parent2 = population[random.choice(selected_indices)]\n",
        "            child = mutate(crossover(parent1, parent2), mutation_rate)\n",
        "            new_population.append(child)\n",
        "\n",
        "        population = population[:len(selected_indices)] + new_population\n",
        "\n",
        "    # Find the best solution in the final population\n",
        "    best_solution = max(population, key=calculate_fitness)\n",
        "    best_fitness = calculate_fitness(best_solution)\n",
        "\n",
        "    return best_solution, best_fitness"
      ],
      "metadata": {
        "id": "NsBQCcSB2PR7"
      },
      "execution_count": 16,
      "outputs": []
    },
    {
      "cell_type": "code",
      "source": [
        "# User input\n",
        "items = int(input(\"Enter the no. of items: \"))\n",
        "value = [int(input(f\"Enter the value of item no. {i+1}: \")) for i in range(items)]\n",
        "weight = [int(input(f\"Enter the weight of item no. {i+1}:\")) for i in range(items)]\n",
        "max_wt = int(input(\"Maximum Weight of the knapsack: \"))\n",
        "population_size = int(input(\"Enter the population size: \"))\n",
        "generations = int(input(\"Enter the number of generations: \"))\n",
        "mutation_rate = float(input(\"Enter the mutation rate (0.0 to 1.0): \"))"
      ],
      "metadata": {
        "colab": {
          "base_uri": "https://localhost:8080/"
        },
        "id": "bDOBgJSn2URO",
        "outputId": "ecd08ac4-70d1-47b7-fc7d-a739a54ade87"
      },
      "execution_count": 17,
      "outputs": [
        {
          "name": "stdout",
          "output_type": "stream",
          "text": [
            "Enter the no. of items: 2\n",
            "Enter the value of item no. 1: 1\n",
            "Enter the value of item no. 2: 2\n",
            "Enter the weight of item no. 1:1\n",
            "Enter the weight of item no. 2:2\n",
            "Maximum Weight of the knapsack: 4\n",
            "Enter the population size: 3\n",
            "Enter the number of generations: 4\n",
            "Enter the mutation rate (0.0 to 1.0): 0.4\n"
          ]
        }
      ]
    },
    {
      "cell_type": "code",
      "source": [
        "# Solve knapsack problem using genetic algorithm\n",
        "solution, fitness = knapsack_genetic_algorithm(population_size, generations, mutation_rate)"
      ],
      "metadata": {
        "id": "nAjS2-4j2i81"
      },
      "execution_count": 18,
      "outputs": []
    },
    {
      "cell_type": "code",
      "source": [
        "# Print the best solution and its fitness\n",
        "print(\"\\nBest solution:\", solution)\n",
        "print(\"Maximum value that can be obtained:\", fitness)\n"
      ],
      "metadata": {
        "id": "BiidSNxy3qty",
        "colab": {
          "base_uri": "https://localhost:8080/"
        },
        "outputId": "0f76db06-a93b-421c-dcba-7cd96f8cfa5d"
      },
      "execution_count": 19,
      "outputs": [
        {
          "output_type": "stream",
          "name": "stdout",
          "text": [
            "\n",
            "Best solution: [1, 1]\n",
            "Maximum value that can be obtained: 3\n"
          ]
        }
      ]
    },
    {
      "cell_type": "markdown",
      "source": [
        "**Conclusion:**\n",
        "\n",
        "Greedy Method:\n",
        "\n",
        "\n",
        "*  Greedy algorithms make locally optimal choices at each step with the hope of finding a global optimum.\n",
        "*  In the context of the Knapsack Problem, a greedy algorithm might sort items based on a certain criterion (e.g., value-to-weight ratio) and add items to the knapsack in a greedy manner until the capacity is reached.\n",
        "\n",
        "\n",
        "Evolutionary Method:\n",
        "\n",
        "\n",
        "\n",
        "*  Evolutionary algorithms, inspired by the process of natural selection, maintain a population of candidate solutions and evolve them over generations using genetic operators like mutation, crossover, and selection.\n",
        "* In the context of the Knapsack Problem, solutions are represented as individuals in a population, and the evolutionary process aims to improve these solutions over successive generations.\n",
        "\n",
        "\n",
        "\n",
        "\n",
        "\n",
        "\n",
        "\n",
        "\n",
        "\n",
        "\n"
      ],
      "metadata": {
        "id": "OijA8R8_23Bu"
      }
    }
  ]
}