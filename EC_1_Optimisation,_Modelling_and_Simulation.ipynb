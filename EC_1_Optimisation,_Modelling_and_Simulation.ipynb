{
  "cells": [
    {
      "cell_type": "markdown",
      "metadata": {
        "id": "view-in-github",
        "colab_type": "text"
      },
      "source": [
        "<a href=\"https://colab.research.google.com/github/archie-sinha/Evolutionary-Computing/blob/main/EC_1_Optimisation%2C_Modelling_and_Simulation.ipynb\" target=\"_parent\"><img src=\"https://colab.research.google.com/assets/colab-badge.svg\" alt=\"Open In Colab\"/></a>"
      ]
    },
    {
      "cell_type": "markdown",
      "source": [
        "#**Archisha Sinha**\n",
        "##Domain: Evolutionary Computing\n",
        "##Topic: Optimisation, Modelling and Simulation"
      ],
      "metadata": {
        "id": "46uZy_JM2Ubt"
      },
      "id": "46uZy_JM2Ubt"
    },
    {
      "cell_type": "markdown",
      "source": [
        "\n",
        "\n",
        "---\n",
        "\n"
      ],
      "metadata": {
        "id": "ossYEhSU3xk9"
      },
      "id": "ossYEhSU3xk9"
    },
    {
      "cell_type": "markdown",
      "id": "ad274502",
      "metadata": {
        "id": "ad274502"
      },
      "source": [
        "\n",
        "##AIM\n",
        "1. To comprehend the concept of optimisation, modeling and simulation\n",
        "2. To implement the given constraint satisfaction problem in Python\n"
      ]
    },
    {
      "cell_type": "markdown",
      "id": "ff16d537",
      "metadata": {
        "id": "ff16d537"
      },
      "source": [
        "## A. Theory:\n",
        "\n",
        "1. Optimization:\n",
        "\n",
        "In an optimization problem the model is known, together with the desired output (or a description of the desired output), and the task is to find the input(s) leading to this output.\n",
        "\n",
        "2. Modelling:\n",
        "\n",
        "In a modeling or system identification problem, corresponding sets of inputs and outputs are known, and a model of the system is sought that delivers the correct output for each known input.\n",
        "\n",
        "3. Simulation:\n",
        "\n",
        "In a simulation problem, we know the system model and some inputs, and need to compute the outputs corresponding to these inputs.\n"
      ]
    },
    {
      "cell_type": "markdown",
      "id": "b113e5dc",
      "metadata": {
        "id": "b113e5dc"
      },
      "source": [
        "## B. Task to be completed:\n",
        "\n",
        "1. A group of students are tasked with building a robotic system to play table tennis. For each of the following capabilities that the system should exhibit, state whether it is an optimisation, modeling, or simulation problem.\n",
        "\n",
        "    a. Identifying the ball in a video feed- **MODELING**\n",
        "    \n",
        "    b.Predicting where the ball will bounce.- **SIMULATION**\n",
        "    \n",
        "    c.Planning how to move the bat to the predicted position of the ball at some future time.- **OPTIMIZATION**\n",
        "    \n",
        "    d.Learning your opponent's behavior.- **SIMULATION**\n",
        "    \n",
        "    e.Deciding where to hit the ball next so that the opponent has the smallest chance of returning it.- **OPTIMIZATION**\n",
        "\n",
        "\n",
        "2. A company decides to produce a robotic system that can guide groups of potential students and their parents around a university campus on an open day. There are considerable regional differences in dialects across its target markets. For each of the following capabilities that the system should exhibit, state whether they are an optimisation, modelling, or simulation problem.\n",
        "\n",
        "   a. Learning to recognize speech.- **MODELLING**\n",
        "   \n",
        "   b. Recognizing a question.- **MODELLING**\n",
        "   \n",
        "   c. Planning a route to the next room on the tour.- **OPTIMIZATION**\n",
        "   \n",
        "   d. Recognizing an obstacle in a corridor (it gives a bad impression to run people over).- **SIMULATION**\n",
        "   \n",
        "   e. Moving to avoid an obstacle.- **OPTIMIZATION**\n",
        "   \n",
        "\n",
        "3. There is much current research in producing autonomous vehicles that can be used on real roads. For each of the following capabilities that such a system should exhibit, state whether they are an optimisation, modelling, or simulation problem.\n",
        "\n",
        "    a. Learning to recognize traffic signs.- **MODELLING**\n",
        "    \n",
        "    b. Recognizing a traffic sign in a video feed as the vehicle drives along.- **SIMULATION**\n",
        "    \n",
        "    c. Planning shortest, or quickest, route between two places.- **OPTIMIZATION**\n",
        "    \n",
        "    d. Avoiding a child that runs into the road.- **SIMULATION**\n",
        "    \n",
        "    e. Steering in the middle of the road.- **OPTIMIZATION**\n",
        "\n",
        "\n",
        "4. Given is the map of Australia. Perform the following task-\n",
        "\n",
        "    a. To color each region either red, green, or blue in such a way that no two neighboring regions have the same color\n",
        "    \n",
        "    b. To formulate this as a CSP\n",
        "    \n",
        "    c. Identify variables, domain and constraints\n",
        "    \n",
        "    d. Implement this CSP in Python\n"
      ]
    },
    {
      "cell_type": "markdown",
      "id": "c9bb5294",
      "metadata": {
        "id": "c9bb5294"
      },
      "source": [
        "Answer:"
      ]
    },
    {
      "cell_type": "markdown",
      "id": "0da7d96a",
      "metadata": {
        "id": "0da7d96a"
      },
      "source": [
        "**Variables**: Western Australia(WA); Northern Territory(NT); South Australia(SA); Queensland(QL); New South Wales(NSW); Victoria(VC) and Tasmania(TA)\n",
        "\n",
        "**Domain**: {Red(R);  Green(G);  Blue(B)}\n",
        "\n",
        "**Constraints**: No two neighboring regions can have the same color. This can be represented as a binary relation between variables, where (R1, R2) is in the relation if and only if R1 and R2 are neighboring regions and cannot have the same color."
      ]
    },
    {
      "cell_type": "code",
      "execution_count": 1,
      "id": "be910aab",
      "metadata": {
        "id": "be910aab"
      },
      "outputs": [],
      "source": [
        "regions={\"WA\", \"NT\", \"SA\",\"QL\", \"NSW\", \"VC\", \"TA\"}"
      ]
    },
    {
      "cell_type": "code",
      "execution_count": 2,
      "id": "6eb360c0",
      "metadata": {
        "id": "6eb360c0"
      },
      "outputs": [],
      "source": [
        "colours= {\"R\", \"B\", \"G\"}"
      ]
    },
    {
      "cell_type": "code",
      "execution_count": 3,
      "id": "17c574e5",
      "metadata": {
        "id": "17c574e5"
      },
      "outputs": [],
      "source": [
        "neighbours={\n",
        "    \"WA\": [\"NT\", \"QL\"],\n",
        "    \"NT\": [\"WA\", \"SA\", \"QL\"],\n",
        "    \"SA\": [\"NT\", \"QL\", \"NSW\", \"VC\"],\n",
        "    \"QL\": [\"WA\", \"NT\", \"SA\", \"NSW\", \"TA\"],\n",
        "    \"NSW\": [\"QL\", \"SA\", \"VC\"],\n",
        "    \"VC\": [\"SA\", \"NSW\", \"TA\"],\n",
        "    \"TA\": [\"QL\", \"VC\"],\n",
        "}"
      ]
    },
    {
      "cell_type": "code",
      "source": [
        "def is_valid_assignment(region, color, assignment):\n",
        "    for neighbor in neighbours[region]:\n",
        "        if neighbor in assignment and assignment[neighbor] == color:\n",
        "            return False\n",
        "    return True"
      ],
      "metadata": {
        "id": "0trwN6JJirY4"
      },
      "id": "0trwN6JJirY4",
      "execution_count": 4,
      "outputs": []
    },
    {
      "cell_type": "code",
      "source": [
        "def backtrack(assignment):\n",
        "    if all(assignment.values()):  # All regions have colors\n",
        "        return assignment\n",
        "\n",
        "    for region in regions:\n",
        "        if region not in assignment:\n",
        "            for color in colours:\n",
        "                if is_valid_assignment(region, color, assignment):\n",
        "                    assignment[region] = color\n",
        "                    result = backtrack(assignment)\n",
        "                    if result:\n",
        "                        return result\n",
        "                    assignment.pop(region)  # Backtrack\n",
        "    return None"
      ],
      "metadata": {
        "id": "wF6J654nn38N"
      },
      "id": "wF6J654nn38N",
      "execution_count": 5,
      "outputs": []
    },
    {
      "cell_type": "code",
      "source": [
        "assignment = {}\n",
        "result = backtrack(assignment)"
      ],
      "metadata": {
        "id": "5ETl-d-ioFJa"
      },
      "id": "5ETl-d-ioFJa",
      "execution_count": 6,
      "outputs": []
    },
    {
      "cell_type": "code",
      "source": [
        "if result:\n",
        "    print(\"Valid coloring:\")\n",
        "    for region, color in result.items():\n",
        "        print(f\"{region} : {color}\")\n",
        "else:\n",
        "    print(\"No valid coloring found.\")"
      ],
      "metadata": {
        "colab": {
          "base_uri": "https://localhost:8080/"
        },
        "id": "ukeJ6E9EoJyC",
        "outputId": "6facf46a-df81-43f6-8d69-658f173daf8e"
      },
      "id": "ukeJ6E9EoJyC",
      "execution_count": 7,
      "outputs": [
        {
          "output_type": "stream",
          "name": "stdout",
          "text": [
            "No valid coloring found.\n"
          ]
        }
      ]
    },
    {
      "cell_type": "markdown",
      "source": [
        "Conclusion:\n",
        "\n",
        "Map coloring is a graph-based problem with applications in diverse fields, aiming to assign colors to regions of a map so that no two adjacent regions share the same color.\n"
      ],
      "metadata": {
        "id": "xDg_fS9UqIoP"
      },
      "id": "xDg_fS9UqIoP"
    }
  ],
  "metadata": {
    "kernelspec": {
      "display_name": "Python 3 (ipykernel)",
      "language": "python",
      "name": "python3"
    },
    "language_info": {
      "codemirror_mode": {
        "name": "ipython",
        "version": 3
      },
      "file_extension": ".py",
      "mimetype": "text/x-python",
      "name": "python",
      "nbconvert_exporter": "python",
      "pygments_lexer": "ipython3",
      "version": "3.10.9"
    },
    "colab": {
      "provenance": [],
      "include_colab_link": true
    }
  },
  "nbformat": 4,
  "nbformat_minor": 5
}